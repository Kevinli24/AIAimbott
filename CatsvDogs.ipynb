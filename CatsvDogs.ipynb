{
 "cells": [
  {
   "cell_type": "code",
   "execution_count": 1,
   "metadata": {},
   "outputs": [],
   "source": [
    "import tensorflow as tf\n",
    "from tensorflow import keras\n",
    "from tensorflow.keras import layers\n",
    "from tensorflow.keras.preprocessing.image import ImageDataGenerator\n",
    "import os"
   ]
  },
  {
   "cell_type": "code",
   "execution_count": 2,
   "metadata": {},
   "outputs": [],
   "source": [
    "# Define dataset path\n",
    "base_dir = 'C:/Users/Chess/Downloads/dog-cat-full-dataset/data'"
   ]
  },
  {
   "cell_type": "code",
   "execution_count": 3,
   "metadata": {},
   "outputs": [],
   "source": [
    "# Define image size and batch size\n",
    "IMG_SIZE = (150, 150)\n",
    "BATCH_SIZE = 32\n"
   ]
  },
  {
   "cell_type": "code",
   "execution_count": 4,
   "metadata": {},
   "outputs": [
    {
     "name": "stdout",
     "output_type": "stream",
     "text": [
      "Found 19992 images belonging to 2 classes.\n",
      "Found 4997 images belonging to 2 classes.\n"
     ]
    }
   ],
   "source": [
    "# Load dataset\n",
    "train_datagen = ImageDataGenerator(rescale=1./255, validation_split=0.2)\n",
    "\n",
    "train_generator = train_datagen.flow_from_directory(\n",
    "    base_dir,\n",
    "    target_size=IMG_SIZE,\n",
    "    batch_size=BATCH_SIZE,\n",
    "    class_mode='binary',\n",
    "    subset='training'\n",
    ")\n",
    "\n",
    "validation_generator = train_datagen.flow_from_directory(\n",
    "    base_dir,\n",
    "    target_size=IMG_SIZE,\n",
    "    batch_size=BATCH_SIZE,\n",
    "    class_mode='binary',\n",
    "    subset='validation'\n",
    ")"
   ]
  },
  {
   "cell_type": "code",
   "execution_count": 5,
   "metadata": {},
   "outputs": [],
   "source": [
    "# Build the CNN model\n",
    "model = keras.Sequential([\n",
    "    layers.Conv2D(32, (3,3), activation='relu', input_shape=(150, 150, 3)),\n",
    "    layers.MaxPooling2D(2,2),\n",
    "   \n",
    "    layers.Conv2D(64, (3,3), activation='relu'),\n",
    "    layers.MaxPooling2D(2,2),\n",
    "   \n",
    "    layers.Conv2D(128, (3,3), activation='relu'),\n",
    "    layers.MaxPooling2D(2,2),\n",
    "   \n",
    "    layers.Flatten(),\n",
    "    layers.Dense(512, activation='relu'),\n",
    "    layers.Dense(1, activation='sigmoid')  # Binary classification\n",
    "])\n",
    "\n",
    "# Compile the model\n",
    "model.compile(optimizer='adam',\n",
    "              loss='binary_crossentropy',\n",
    "              metrics=['accuracy'])"
   ]
  },
  {
   "cell_type": "code",
   "execution_count": 6,
   "metadata": {},
   "outputs": [
    {
     "name": "stdout",
     "output_type": "stream",
     "text": [
      "Epoch 1/10\n",
      "625/625 [==============================] - 779s 1s/step - loss: 0.5165 - accuracy: 0.7999 - val_loss: 0.5020 - val_accuracy: 0.7999\n",
      "Epoch 2/10\n",
      "625/625 [==============================] - 383s 613ms/step - loss: 0.5037 - accuracy: 0.7999 - val_loss: 0.5018 - val_accuracy: 0.7999\n",
      "Epoch 3/10\n",
      "625/625 [==============================] - 373s 596ms/step - loss: 0.5027 - accuracy: 0.7999 - val_loss: 0.5247 - val_accuracy: 0.7999\n",
      "Epoch 4/10\n",
      "625/625 [==============================] - 386s 618ms/step - loss: 0.5027 - accuracy: 0.7999 - val_loss: 0.5029 - val_accuracy: 0.7999\n",
      "Epoch 5/10\n",
      "625/625 [==============================] - 363s 581ms/step - loss: 0.5016 - accuracy: 0.7999 - val_loss: 0.5029 - val_accuracy: 0.7999\n",
      "Epoch 6/10\n",
      "625/625 [==============================] - 3653s 6s/step - loss: 0.4999 - accuracy: 0.8000 - val_loss: 0.5098 - val_accuracy: 0.7999\n",
      "Epoch 7/10\n",
      "625/625 [==============================] - 318s 508ms/step - loss: 0.4974 - accuracy: 0.8000 - val_loss: 0.5032 - val_accuracy: 0.7999\n",
      "Epoch 8/10\n",
      "625/625 [==============================] - 344s 550ms/step - loss: 0.4929 - accuracy: 0.8005 - val_loss: 0.5107 - val_accuracy: 0.7983\n",
      "Epoch 9/10\n",
      "625/625 [==============================] - 337s 539ms/step - loss: 0.4847 - accuracy: 0.8032 - val_loss: 0.5255 - val_accuracy: 0.7929\n",
      "Epoch 10/10\n",
      "625/625 [==============================] - 349s 558ms/step - loss: 0.4675 - accuracy: 0.8097 - val_loss: 0.5513 - val_accuracy: 0.7919\n"
     ]
    }
   ],
   "source": [
    "# Train the model\n",
    "model.fit(train_generator, validation_data=validation_generator, epochs=10)\n",
    "\n",
    "# Save the model\n",
    "model.save('dog_cat_classifier.h5')"
   ]
  },
  {
   "cell_type": "code",
   "execution_count": null,
   "metadata": {},
   "outputs": [],
   "source": []
  }
 ],
 "metadata": {
  "kernelspec": {
   "display_name": "Python 3",
   "language": "python",
   "name": "python3"
  },
  "language_info": {
   "codemirror_mode": {
    "name": "ipython",
    "version": 3
   },
   "file_extension": ".py",
   "mimetype": "text/x-python",
   "name": "python",
   "nbconvert_exporter": "python",
   "pygments_lexer": "ipython3",
   "version": "3.10.5"
  }
 },
 "nbformat": 4,
 "nbformat_minor": 2
}
